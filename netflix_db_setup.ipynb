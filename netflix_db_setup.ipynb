{
 "metadata": {
  "language_info": {
   "codemirror_mode": {
    "name": "ipython",
    "version": 3
   },
   "file_extension": ".py",
   "mimetype": "text/x-python",
   "name": "python",
   "nbconvert_exporter": "python",
   "pygments_lexer": "ipython3",
   "version": "3.8.2-final"
  },
  "orig_nbformat": 2,
  "kernelspec": {
   "name": "python3",
   "display_name": "Python 3",
   "language": "python"
  }
 },
 "nbformat": 4,
 "nbformat_minor": 2,
 "cells": [
  {
   "cell_type": "code",
   "execution_count": 1,
   "metadata": {},
   "outputs": [],
   "source": [
    "#import dependancies\n",
    "import pandas as pd \n",
    "from sqlalchemy import create_engine"
   ]
  },
  {
   "cell_type": "code",
   "execution_count": 23,
   "metadata": {},
   "outputs": [
    {
     "output_type": "execute_result",
     "data": {
      "text/plain": [
       "                   title rating  \\\n",
       "0         Grey's Anatomy  TV-14   \n",
       "1           Prison Break  TV-14   \n",
       "2  How I Met Your Mother  TV-PG   \n",
       "3           Supernatural  TV-14   \n",
       "4           Breaking Bad  TV-MA   \n",
       "\n",
       "                                        rating_level  rating_description  \\\n",
       "0  Parents strongly cautioned. May be unsuitable ...                  90   \n",
       "1  Parents strongly cautioned. May be unsuitable ...                  90   \n",
       "2  Parental guidance suggested. May not be suitab...                  70   \n",
       "3  Parents strongly cautioned. May be unsuitable ...                  90   \n",
       "4  For mature audiences.  May not be suitable for...                 110   \n",
       "\n",
       "   release_year  user_rating_score  user_rating_size movie_or_show  \n",
       "0          2016               98.0                80          Show  \n",
       "1          2008               98.0                80          Show  \n",
       "2          2014               94.0                80          Show  \n",
       "3          2016               95.0                80          Show  \n",
       "4          2013               97.0                80          Show  "
      ],
      "text/html": "<div>\n<style scoped>\n    .dataframe tbody tr th:only-of-type {\n        vertical-align: middle;\n    }\n\n    .dataframe tbody tr th {\n        vertical-align: top;\n    }\n\n    .dataframe thead th {\n        text-align: right;\n    }\n</style>\n<table border=\"1\" class=\"dataframe\">\n  <thead>\n    <tr style=\"text-align: right;\">\n      <th></th>\n      <th>title</th>\n      <th>rating</th>\n      <th>rating_level</th>\n      <th>rating_description</th>\n      <th>release_year</th>\n      <th>user_rating_score</th>\n      <th>user_rating_size</th>\n      <th>movie_or_show</th>\n    </tr>\n  </thead>\n  <tbody>\n    <tr>\n      <th>0</th>\n      <td>Grey's Anatomy</td>\n      <td>TV-14</td>\n      <td>Parents strongly cautioned. May be unsuitable ...</td>\n      <td>90</td>\n      <td>2016</td>\n      <td>98.0</td>\n      <td>80</td>\n      <td>Show</td>\n    </tr>\n    <tr>\n      <th>1</th>\n      <td>Prison Break</td>\n      <td>TV-14</td>\n      <td>Parents strongly cautioned. May be unsuitable ...</td>\n      <td>90</td>\n      <td>2008</td>\n      <td>98.0</td>\n      <td>80</td>\n      <td>Show</td>\n    </tr>\n    <tr>\n      <th>2</th>\n      <td>How I Met Your Mother</td>\n      <td>TV-PG</td>\n      <td>Parental guidance suggested. May not be suitab...</td>\n      <td>70</td>\n      <td>2014</td>\n      <td>94.0</td>\n      <td>80</td>\n      <td>Show</td>\n    </tr>\n    <tr>\n      <th>3</th>\n      <td>Supernatural</td>\n      <td>TV-14</td>\n      <td>Parents strongly cautioned. May be unsuitable ...</td>\n      <td>90</td>\n      <td>2016</td>\n      <td>95.0</td>\n      <td>80</td>\n      <td>Show</td>\n    </tr>\n    <tr>\n      <th>4</th>\n      <td>Breaking Bad</td>\n      <td>TV-MA</td>\n      <td>For mature audiences.  May not be suitable for...</td>\n      <td>110</td>\n      <td>2013</td>\n      <td>97.0</td>\n      <td>80</td>\n      <td>Show</td>\n    </tr>\n  </tbody>\n</table>\n</div>"
     },
     "metadata": {},
     "execution_count": 23
    }
   ],
   "source": [
    "#import show data from CSV, clean\n",
    "netflix_shows = pd.read_csv('Resources/netflix_shows.csv')\n",
    "netflix_shows.drop(columns='Unnamed: 0', inplace=True)\n",
    "netflix_shows = netflix_shows.rename(columns={\n",
    "    'ratingLevel':'rating_level',\n",
    "    'ratingDescription': 'rating_description',\n",
    "    'release year': 'release_year',\n",
    "    'user rating score': 'user_rating_score',\n",
    "    'user rating size':'user_rating_size',\n",
    "    'Movie or Show': 'movie_or_show'\n",
    "})\n",
    "netflix_shows.head()"
   ]
  },
  {
   "cell_type": "code",
   "execution_count": 24,
   "metadata": {},
   "outputs": [
    {
     "output_type": "execute_result",
     "data": {
      "text/plain": [
       "                    title rating  \\\n",
       "0            White Chicks  PG-13   \n",
       "1     Lucky Number Slevin      R   \n",
       "2              The Hunter      R   \n",
       "3                 The 100     NR   \n",
       "4  Nymphomaniac: Volume 1     NR   \n",
       "\n",
       "                                        rating_level  rating_description  \\\n",
       "0  crude and sexual humor, language and some drug...                  80   \n",
       "1  strong violence, sexual content and adult lang...                 100   \n",
       "2                        language and brief violence                 100   \n",
       "3                     This movie has not been rated.                 124   \n",
       "4                     This movie has not been rated.                 124   \n",
       "\n",
       "   release_year  user_rating_score  user_rating_size movie_or_show  \n",
       "0          2004               82.0                80         Movie  \n",
       "1          2006                NaN                82         Movie  \n",
       "2          2011                NaN                82         Movie  \n",
       "3          2016               97.0                80         Movie  \n",
       "4          2013                NaN                82         Movie  "
      ],
      "text/html": "<div>\n<style scoped>\n    .dataframe tbody tr th:only-of-type {\n        vertical-align: middle;\n    }\n\n    .dataframe tbody tr th {\n        vertical-align: top;\n    }\n\n    .dataframe thead th {\n        text-align: right;\n    }\n</style>\n<table border=\"1\" class=\"dataframe\">\n  <thead>\n    <tr style=\"text-align: right;\">\n      <th></th>\n      <th>title</th>\n      <th>rating</th>\n      <th>rating_level</th>\n      <th>rating_description</th>\n      <th>release_year</th>\n      <th>user_rating_score</th>\n      <th>user_rating_size</th>\n      <th>movie_or_show</th>\n    </tr>\n  </thead>\n  <tbody>\n    <tr>\n      <th>0</th>\n      <td>White Chicks</td>\n      <td>PG-13</td>\n      <td>crude and sexual humor, language and some drug...</td>\n      <td>80</td>\n      <td>2004</td>\n      <td>82.0</td>\n      <td>80</td>\n      <td>Movie</td>\n    </tr>\n    <tr>\n      <th>1</th>\n      <td>Lucky Number Slevin</td>\n      <td>R</td>\n      <td>strong violence, sexual content and adult lang...</td>\n      <td>100</td>\n      <td>2006</td>\n      <td>NaN</td>\n      <td>82</td>\n      <td>Movie</td>\n    </tr>\n    <tr>\n      <th>2</th>\n      <td>The Hunter</td>\n      <td>R</td>\n      <td>language and brief violence</td>\n      <td>100</td>\n      <td>2011</td>\n      <td>NaN</td>\n      <td>82</td>\n      <td>Movie</td>\n    </tr>\n    <tr>\n      <th>3</th>\n      <td>The 100</td>\n      <td>NR</td>\n      <td>This movie has not been rated.</td>\n      <td>124</td>\n      <td>2016</td>\n      <td>97.0</td>\n      <td>80</td>\n      <td>Movie</td>\n    </tr>\n    <tr>\n      <th>4</th>\n      <td>Nymphomaniac: Volume 1</td>\n      <td>NR</td>\n      <td>This movie has not been rated.</td>\n      <td>124</td>\n      <td>2013</td>\n      <td>NaN</td>\n      <td>82</td>\n      <td>Movie</td>\n    </tr>\n  </tbody>\n</table>\n</div>"
     },
     "metadata": {},
     "execution_count": 24
    }
   ],
   "source": [
    "#import movie data from CSV, clean\n",
    "netflix_movies = pd.read_csv('Resources/netflix_movies.csv')\n",
    "netflix_movies.drop(columns='Unnamed: 0', inplace=True)\n",
    "netflix_movies = netflix_movies.rename(columns={\n",
    "    'ratingLevel':'rating_level',\n",
    "    'ratingDescription': 'rating_description',\n",
    "    'release year': 'release_year',\n",
    "    'user rating score': 'user_rating_score',\n",
    "    'user rating size':'user_rating_size',\n",
    "    'Movie or Show': 'movie_or_show'\n",
    "    })\n",
    "netflix_movies.head()"
   ]
  },
  {
   "cell_type": "code",
   "execution_count": 25,
   "metadata": {},
   "outputs": [],
   "source": [
    "#open connection to postgress database\n",
    "connection_string = \"postgres:112388@localhost:5432/Netflix_db\"\n",
    "engine = create_engine(f'postgresql://{connection_string}')"
   ]
  },
  {
   "cell_type": "code",
   "execution_count": 26,
   "metadata": {},
   "outputs": [
    {
     "output_type": "execute_result",
     "data": {
      "text/plain": [
       "['netflix_shows', 'netflix_movies']"
      ]
     },
     "metadata": {},
     "execution_count": 26
    }
   ],
   "source": [
    "#double check tables are created\n",
    "engine.table_names()"
   ]
  },
  {
   "cell_type": "code",
   "execution_count": 27,
   "metadata": {},
   "outputs": [],
   "source": [
    "#load show data to database\n",
    "netflix_shows.to_sql(name='netflix_shows', con=engine, if_exists='append', index=False)"
   ]
  },
  {
   "cell_type": "code",
   "execution_count": 28,
   "metadata": {},
   "outputs": [],
   "source": [
    "#load movie data to database\n",
    "netflix_movies.to_sql(name='netflix_movies', con=engine, if_exists='append', index=False)"
   ]
  },
  {
   "cell_type": "code",
   "execution_count": 29,
   "metadata": {},
   "outputs": [
    {
     "output_type": "execute_result",
     "data": {
      "text/plain": [
       "   show_id                  title rating  \\\n",
       "0        1         Grey's Anatomy  TV-14   \n",
       "1        2           Prison Break  TV-14   \n",
       "2        3  How I Met Your Mother  TV-PG   \n",
       "3        4           Supernatural  TV-14   \n",
       "4        5           Breaking Bad  TV-MA   \n",
       "\n",
       "                                        rating_level rating_description  \\\n",
       "0  Parents strongly cautioned. May be unsuitable ...                 90   \n",
       "1  Parents strongly cautioned. May be unsuitable ...                 90   \n",
       "2  Parental guidance suggested. May not be suitab...                 70   \n",
       "3  Parents strongly cautioned. May be unsuitable ...                 90   \n",
       "4  For mature audiences.  May not be suitable for...                110   \n",
       "\n",
       "  release_year user_rating_score user_rating_size movie_or_show  \n",
       "0         2016              98.0               80          Show  \n",
       "1         2008              98.0               80          Show  \n",
       "2         2014              94.0               80          Show  \n",
       "3         2016              95.0               80          Show  \n",
       "4         2013              97.0               80          Show  "
      ],
      "text/html": "<div>\n<style scoped>\n    .dataframe tbody tr th:only-of-type {\n        vertical-align: middle;\n    }\n\n    .dataframe tbody tr th {\n        vertical-align: top;\n    }\n\n    .dataframe thead th {\n        text-align: right;\n    }\n</style>\n<table border=\"1\" class=\"dataframe\">\n  <thead>\n    <tr style=\"text-align: right;\">\n      <th></th>\n      <th>show_id</th>\n      <th>title</th>\n      <th>rating</th>\n      <th>rating_level</th>\n      <th>rating_description</th>\n      <th>release_year</th>\n      <th>user_rating_score</th>\n      <th>user_rating_size</th>\n      <th>movie_or_show</th>\n    </tr>\n  </thead>\n  <tbody>\n    <tr>\n      <th>0</th>\n      <td>1</td>\n      <td>Grey's Anatomy</td>\n      <td>TV-14</td>\n      <td>Parents strongly cautioned. May be unsuitable ...</td>\n      <td>90</td>\n      <td>2016</td>\n      <td>98.0</td>\n      <td>80</td>\n      <td>Show</td>\n    </tr>\n    <tr>\n      <th>1</th>\n      <td>2</td>\n      <td>Prison Break</td>\n      <td>TV-14</td>\n      <td>Parents strongly cautioned. May be unsuitable ...</td>\n      <td>90</td>\n      <td>2008</td>\n      <td>98.0</td>\n      <td>80</td>\n      <td>Show</td>\n    </tr>\n    <tr>\n      <th>2</th>\n      <td>3</td>\n      <td>How I Met Your Mother</td>\n      <td>TV-PG</td>\n      <td>Parental guidance suggested. May not be suitab...</td>\n      <td>70</td>\n      <td>2014</td>\n      <td>94.0</td>\n      <td>80</td>\n      <td>Show</td>\n    </tr>\n    <tr>\n      <th>3</th>\n      <td>4</td>\n      <td>Supernatural</td>\n      <td>TV-14</td>\n      <td>Parents strongly cautioned. May be unsuitable ...</td>\n      <td>90</td>\n      <td>2016</td>\n      <td>95.0</td>\n      <td>80</td>\n      <td>Show</td>\n    </tr>\n    <tr>\n      <th>4</th>\n      <td>5</td>\n      <td>Breaking Bad</td>\n      <td>TV-MA</td>\n      <td>For mature audiences.  May not be suitable for...</td>\n      <td>110</td>\n      <td>2013</td>\n      <td>97.0</td>\n      <td>80</td>\n      <td>Show</td>\n    </tr>\n  </tbody>\n</table>\n</div>"
     },
     "metadata": {},
     "execution_count": 29
    }
   ],
   "source": [
    "#check to see if data loaded\n",
    "pd.read_sql_query('select * from netflix_shows', con=engine).head()"
   ]
  },
  {
   "cell_type": "code",
   "execution_count": 30,
   "metadata": {},
   "outputs": [
    {
     "output_type": "execute_result",
     "data": {
      "text/plain": [
       "   movie_id                   title rating  \\\n",
       "0         1            White Chicks  PG-13   \n",
       "1         2     Lucky Number Slevin      R   \n",
       "2         3              The Hunter      R   \n",
       "3         4                 The 100     NR   \n",
       "4         5  Nymphomaniac: Volume 1     NR   \n",
       "\n",
       "                                        rating_level rating_description  \\\n",
       "0  crude and sexual humor, language and some drug...                 80   \n",
       "1  strong violence, sexual content and adult lang...                100   \n",
       "2                        language and brief violence                100   \n",
       "3                     This movie has not been rated.                124   \n",
       "4                     This movie has not been rated.                124   \n",
       "\n",
       "  release_year user_rating_score user_rating_size movie_or_show  \n",
       "0         2004              82.0               80         Movie  \n",
       "1         2006              None               82         Movie  \n",
       "2         2011              None               82         Movie  \n",
       "3         2016              97.0               80         Movie  \n",
       "4         2013              None               82         Movie  "
      ],
      "text/html": "<div>\n<style scoped>\n    .dataframe tbody tr th:only-of-type {\n        vertical-align: middle;\n    }\n\n    .dataframe tbody tr th {\n        vertical-align: top;\n    }\n\n    .dataframe thead th {\n        text-align: right;\n    }\n</style>\n<table border=\"1\" class=\"dataframe\">\n  <thead>\n    <tr style=\"text-align: right;\">\n      <th></th>\n      <th>movie_id</th>\n      <th>title</th>\n      <th>rating</th>\n      <th>rating_level</th>\n      <th>rating_description</th>\n      <th>release_year</th>\n      <th>user_rating_score</th>\n      <th>user_rating_size</th>\n      <th>movie_or_show</th>\n    </tr>\n  </thead>\n  <tbody>\n    <tr>\n      <th>0</th>\n      <td>1</td>\n      <td>White Chicks</td>\n      <td>PG-13</td>\n      <td>crude and sexual humor, language and some drug...</td>\n      <td>80</td>\n      <td>2004</td>\n      <td>82.0</td>\n      <td>80</td>\n      <td>Movie</td>\n    </tr>\n    <tr>\n      <th>1</th>\n      <td>2</td>\n      <td>Lucky Number Slevin</td>\n      <td>R</td>\n      <td>strong violence, sexual content and adult lang...</td>\n      <td>100</td>\n      <td>2006</td>\n      <td>None</td>\n      <td>82</td>\n      <td>Movie</td>\n    </tr>\n    <tr>\n      <th>2</th>\n      <td>3</td>\n      <td>The Hunter</td>\n      <td>R</td>\n      <td>language and brief violence</td>\n      <td>100</td>\n      <td>2011</td>\n      <td>None</td>\n      <td>82</td>\n      <td>Movie</td>\n    </tr>\n    <tr>\n      <th>3</th>\n      <td>4</td>\n      <td>The 100</td>\n      <td>NR</td>\n      <td>This movie has not been rated.</td>\n      <td>124</td>\n      <td>2016</td>\n      <td>97.0</td>\n      <td>80</td>\n      <td>Movie</td>\n    </tr>\n    <tr>\n      <th>4</th>\n      <td>5</td>\n      <td>Nymphomaniac: Volume 1</td>\n      <td>NR</td>\n      <td>This movie has not been rated.</td>\n      <td>124</td>\n      <td>2013</td>\n      <td>None</td>\n      <td>82</td>\n      <td>Movie</td>\n    </tr>\n  </tbody>\n</table>\n</div>"
     },
     "metadata": {},
     "execution_count": 30
    }
   ],
   "source": [
    "#check to see if data loaded\n",
    "pd.read_sql_query('select * from netflix_movies', con=engine).head()\n"
   ]
  },
  {
   "cell_type": "code",
   "execution_count": null,
   "metadata": {},
   "outputs": [],
   "source": []
  }
 ]
}