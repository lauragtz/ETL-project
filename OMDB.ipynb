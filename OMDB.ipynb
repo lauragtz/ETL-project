{
 "metadata": {
  "language_info": {
   "codemirror_mode": {
    "name": "ipython",
    "version": 3
   },
   "file_extension": ".py",
   "mimetype": "text/x-python",
   "name": "python",
   "nbconvert_exporter": "python",
   "pygments_lexer": "ipython3",
   "version": "3.8.5-final"
  },
  "orig_nbformat": 2,
  "kernelspec": {
   "name": "python3",
   "display_name": "Python 3.8.5 64-bit ('pipenv': conda)",
   "metadata": {
    "interpreter": {
     "hash": "a7b1b0ef36b7e45d88848f789095afd904fb25ae5e5b963f607cc90eb5799de5"
    }
   }
  }
 },
 "nbformat": 4,
 "nbformat_minor": 2,
 "cells": [
  {
   "cell_type": "code",
   "execution_count": 1,
   "metadata": {},
   "outputs": [],
   "source": [
    "import pandas as pd\n",
    "import requests\n",
    "import time\n",
    "import json\n",
    "from sqlalchemy import create_engine\n",
    "from config import password"
   ]
  },
  {
   "cell_type": "code",
   "execution_count": 2,
   "metadata": {},
   "outputs": [],
   "source": [
    "connection_string = f\"postgres:{password}@localhost:5432/Netflix_db\"\n",
    "engine = create_engine(f'postgresql://{connection_string}')"
   ]
  },
  {
   "cell_type": "code",
   "execution_count": 3,
   "metadata": {},
   "outputs": [],
   "source": [
    "OMDB = open('OMDB.json')\n",
    "data = json.load(OMDB)\n",
    "movies_df = pd.json_normalize(data)"
   ]
  },
  {
   "cell_type": "code",
   "execution_count": 4,
   "metadata": {},
   "outputs": [],
   "source": [
    "movies_df.drop(movies_df.loc[movies_df['Response']=='False'].index, inplace=True)"
   ]
  },
  {
   "cell_type": "code",
   "execution_count": 5,
   "metadata": {},
   "outputs": [],
   "source": [
    "movies_df.drop(movies_df.loc[movies_df['Type']=='series'].index, inplace=True)\n",
    "#movies_df.head()"
   ]
  },
  {
   "cell_type": "code",
   "execution_count": 6,
   "metadata": {},
   "outputs": [
    {
     "output_type": "execute_result",
     "data": {
      "text/plain": [
       "                 Title  Year      Rated     Released  Runtime  \\\n",
       "0         White Chicks  2004      PG-13  23 Jun 2004  109 min   \n",
       "1  Lucky Number Slevin  2006          R  07 Apr 2006  110 min   \n",
       "2           The Hunter  2011          R  06 Oct 2011  100 min   \n",
       "6           Hyena Road  2015          R  09 Oct 2015  120 min   \n",
       "8           White Girl  2016  Not Rated  01 Dec 2016   88 min   \n",
       "\n",
       "                            Genre             Director  \\\n",
       "0                   Comedy, Crime  Keenen Ivory Wayans   \n",
       "1  Action, Crime, Drama, Thriller        Paul McGuigan   \n",
       "2      Adventure, Drama, Thriller      Daniel Nettheim   \n",
       "6              Action, Drama, War           Paul Gross   \n",
       "8                    Crime, Drama       Elizabeth Wood   \n",
       "\n",
       "                                              Writer  \\\n",
       "0  Keenen Ivory Wayans (screenplay), Shawn Wayans...   \n",
       "1                                     Jason Smilovic   \n",
       "2  Alice Addison (screenplay), Wain Fimeri (origi...   \n",
       "6                                         Paul Gross   \n",
       "8                                     Elizabeth Wood   \n",
       "\n",
       "                                              Actors  \\\n",
       "0  Shawn Wayans, Marlon Wayans, Jaime King, Frank...   \n",
       "1  Josh Hartnett, Bruce Willis, Lucy Liu, Morgan ...   \n",
       "2  Willem Dafoe, Frances O'Connor, Sam Neill, Mor...   \n",
       "6  Rossif Sutherland, Allan Hawco, David Richmond...   \n",
       "8  Morgan Saylor, Brian Marc, Justin Bartha, Chri...   \n",
       "\n",
       "                                                Plot Language  \\\n",
       "0  Two disgraced FBI agents go way undercover in ...  English   \n",
       "1  A case of mistaken identity lands Slevin into ...  English   \n",
       "2  Martin, a mercenary, is sent from Europe by a ...  English   \n",
       "6  Three different men, three different worlds, t...  English   \n",
       "8  Summer, New York City. A college girl falls ha...  English   \n",
       "\n",
       "                    Country                    Awards  \\\n",
       "0                       USA  3 wins & 13 nominations.   \n",
       "1  Germany, UK, USA, Canada   5 wins & 4 nominations.   \n",
       "2                 Australia  4 wins & 23 nominations.   \n",
       "6                    Canada  5 wins & 12 nominations.   \n",
       "8                       USA    1 win & 3 nominations.   \n",
       "\n",
       "                                              Poster Metascore imdbRating  \\\n",
       "0  https://m.media-amazon.com/images/M/MV5BMTY3OT...        41        5.6   \n",
       "1  https://m.media-amazon.com/images/M/MV5BZjczMW...        53        7.7   \n",
       "2  https://m.media-amazon.com/images/M/MV5BNTI4Mz...        63        6.7   \n",
       "6  https://m.media-amazon.com/images/M/MV5BMzAyMz...        44        6.5   \n",
       "8  https://m.media-amazon.com/images/M/MV5BMjMzMD...        65        5.7   \n",
       "\n",
       "  imdbVotes     imdbID  \n",
       "0   129,803  tt0381707  \n",
       "1   298,495  tt0425210  \n",
       "2    36,499  tt1703148  \n",
       "6     7,026  tt4034452  \n",
       "8     9,304  tt4129870  "
      ],
      "text/html": "<div>\n<style scoped>\n    .dataframe tbody tr th:only-of-type {\n        vertical-align: middle;\n    }\n\n    .dataframe tbody tr th {\n        vertical-align: top;\n    }\n\n    .dataframe thead th {\n        text-align: right;\n    }\n</style>\n<table border=\"1\" class=\"dataframe\">\n  <thead>\n    <tr style=\"text-align: right;\">\n      <th></th>\n      <th>Title</th>\n      <th>Year</th>\n      <th>Rated</th>\n      <th>Released</th>\n      <th>Runtime</th>\n      <th>Genre</th>\n      <th>Director</th>\n      <th>Writer</th>\n      <th>Actors</th>\n      <th>Plot</th>\n      <th>Language</th>\n      <th>Country</th>\n      <th>Awards</th>\n      <th>Poster</th>\n      <th>Metascore</th>\n      <th>imdbRating</th>\n      <th>imdbVotes</th>\n      <th>imdbID</th>\n    </tr>\n  </thead>\n  <tbody>\n    <tr>\n      <th>0</th>\n      <td>White Chicks</td>\n      <td>2004</td>\n      <td>PG-13</td>\n      <td>23 Jun 2004</td>\n      <td>109 min</td>\n      <td>Comedy, Crime</td>\n      <td>Keenen Ivory Wayans</td>\n      <td>Keenen Ivory Wayans (screenplay), Shawn Wayans...</td>\n      <td>Shawn Wayans, Marlon Wayans, Jaime King, Frank...</td>\n      <td>Two disgraced FBI agents go way undercover in ...</td>\n      <td>English</td>\n      <td>USA</td>\n      <td>3 wins &amp; 13 nominations.</td>\n      <td>https://m.media-amazon.com/images/M/MV5BMTY3OT...</td>\n      <td>41</td>\n      <td>5.6</td>\n      <td>129,803</td>\n      <td>tt0381707</td>\n    </tr>\n    <tr>\n      <th>1</th>\n      <td>Lucky Number Slevin</td>\n      <td>2006</td>\n      <td>R</td>\n      <td>07 Apr 2006</td>\n      <td>110 min</td>\n      <td>Action, Crime, Drama, Thriller</td>\n      <td>Paul McGuigan</td>\n      <td>Jason Smilovic</td>\n      <td>Josh Hartnett, Bruce Willis, Lucy Liu, Morgan ...</td>\n      <td>A case of mistaken identity lands Slevin into ...</td>\n      <td>English</td>\n      <td>Germany, UK, USA, Canada</td>\n      <td>5 wins &amp; 4 nominations.</td>\n      <td>https://m.media-amazon.com/images/M/MV5BZjczMW...</td>\n      <td>53</td>\n      <td>7.7</td>\n      <td>298,495</td>\n      <td>tt0425210</td>\n    </tr>\n    <tr>\n      <th>2</th>\n      <td>The Hunter</td>\n      <td>2011</td>\n      <td>R</td>\n      <td>06 Oct 2011</td>\n      <td>100 min</td>\n      <td>Adventure, Drama, Thriller</td>\n      <td>Daniel Nettheim</td>\n      <td>Alice Addison (screenplay), Wain Fimeri (origi...</td>\n      <td>Willem Dafoe, Frances O'Connor, Sam Neill, Mor...</td>\n      <td>Martin, a mercenary, is sent from Europe by a ...</td>\n      <td>English</td>\n      <td>Australia</td>\n      <td>4 wins &amp; 23 nominations.</td>\n      <td>https://m.media-amazon.com/images/M/MV5BNTI4Mz...</td>\n      <td>63</td>\n      <td>6.7</td>\n      <td>36,499</td>\n      <td>tt1703148</td>\n    </tr>\n    <tr>\n      <th>6</th>\n      <td>Hyena Road</td>\n      <td>2015</td>\n      <td>R</td>\n      <td>09 Oct 2015</td>\n      <td>120 min</td>\n      <td>Action, Drama, War</td>\n      <td>Paul Gross</td>\n      <td>Paul Gross</td>\n      <td>Rossif Sutherland, Allan Hawco, David Richmond...</td>\n      <td>Three different men, three different worlds, t...</td>\n      <td>English</td>\n      <td>Canada</td>\n      <td>5 wins &amp; 12 nominations.</td>\n      <td>https://m.media-amazon.com/images/M/MV5BMzAyMz...</td>\n      <td>44</td>\n      <td>6.5</td>\n      <td>7,026</td>\n      <td>tt4034452</td>\n    </tr>\n    <tr>\n      <th>8</th>\n      <td>White Girl</td>\n      <td>2016</td>\n      <td>Not Rated</td>\n      <td>01 Dec 2016</td>\n      <td>88 min</td>\n      <td>Crime, Drama</td>\n      <td>Elizabeth Wood</td>\n      <td>Elizabeth Wood</td>\n      <td>Morgan Saylor, Brian Marc, Justin Bartha, Chri...</td>\n      <td>Summer, New York City. A college girl falls ha...</td>\n      <td>English</td>\n      <td>USA</td>\n      <td>1 win &amp; 3 nominations.</td>\n      <td>https://m.media-amazon.com/images/M/MV5BMjMzMD...</td>\n      <td>65</td>\n      <td>5.7</td>\n      <td>9,304</td>\n      <td>tt4129870</td>\n    </tr>\n  </tbody>\n</table>\n</div>"
     },
     "metadata": {},
     "execution_count": 6
    }
   ],
   "source": [
    "movies_df = movies_df.drop(columns=['BoxOffice', 'Website', 'totalSeasons', 'Error', 'Ratings', 'DVD', 'Type', 'Error', 'Website', 'Production', 'Response'])\n",
    "movies_df.head()"
   ]
  },
  {
   "cell_type": "code",
   "execution_count": 7,
   "metadata": {},
   "outputs": [],
   "source": [
    "movies_df.columns = movies_df.columns.str.lower()"
   ]
  },
  {
   "cell_type": "code",
   "execution_count": 8,
   "metadata": {},
   "outputs": [
    {
     "output_type": "execute_result",
     "data": {
      "text/plain": [
       "Index(['title', 'year', 'rated', 'released', 'runtime', 'genre', 'director',\n",
       "       'writer', 'actors', 'plot', 'language', 'country', 'awards', 'poster',\n",
       "       'metascore', 'imdbrating', 'imdbvotes', 'imdbid'],\n",
       "      dtype='object')"
      ]
     },
     "metadata": {},
     "execution_count": 8
    }
   ],
   "source": [
    "movies_df.columns"
   ]
  },
  {
   "cell_type": "code",
   "execution_count": 9,
   "metadata": {},
   "outputs": [],
   "source": [
    "#movies_df.to_sql(name='omdb_reviews', con=engine, if_exists='append', index=False)"
   ]
  },
  {
   "cell_type": "code",
   "execution_count": 10,
   "metadata": {},
   "outputs": [],
   "source": [
    "movies_db = pd.read_sql_query('select * from omdb_reviews', con=engine)"
   ]
  },
  {
   "cell_type": "code",
   "execution_count": 12,
   "metadata": {},
   "outputs": [
    {
     "output_type": "execute_result",
     "data": {
      "text/plain": [
       "                 title  year      rated     released  runtime  \\\n",
       "0         White Chicks  2004      PG-13  23 Jun 2004  109 min   \n",
       "1  Lucky Number Slevin  2006          R  07 Apr 2006  110 min   \n",
       "2           The Hunter  2011          R  06 Oct 2011  100 min   \n",
       "3           Hyena Road  2015          R  09 Oct 2015  120 min   \n",
       "4           White Girl  2016  Not Rated  01 Dec 2016   88 min   \n",
       "\n",
       "                            genre             director  \\\n",
       "0                   Comedy, Crime  Keenen Ivory Wayans   \n",
       "1  Action, Crime, Drama, Thriller        Paul McGuigan   \n",
       "2      Adventure, Drama, Thriller      Daniel Nettheim   \n",
       "3              Action, Drama, War           Paul Gross   \n",
       "4                    Crime, Drama       Elizabeth Wood   \n",
       "\n",
       "                                              writer  \\\n",
       "0  Keenen Ivory Wayans (screenplay), Shawn Wayans...   \n",
       "1                                     Jason Smilovic   \n",
       "2  Alice Addison (screenplay), Wain Fimeri (origi...   \n",
       "3                                         Paul Gross   \n",
       "4                                     Elizabeth Wood   \n",
       "\n",
       "                                              actors  \\\n",
       "0  Shawn Wayans, Marlon Wayans, Jaime King, Frank...   \n",
       "1  Josh Hartnett, Bruce Willis, Lucy Liu, Morgan ...   \n",
       "2  Willem Dafoe, Frances O'Connor, Sam Neill, Mor...   \n",
       "3  Rossif Sutherland, Allan Hawco, David Richmond...   \n",
       "4  Morgan Saylor, Brian Marc, Justin Bartha, Chri...   \n",
       "\n",
       "                                                plot language  \\\n",
       "0  Two disgraced FBI agents go way undercover in ...  English   \n",
       "1  A case of mistaken identity lands Slevin into ...  English   \n",
       "2  Martin, a mercenary, is sent from Europe by a ...  English   \n",
       "3  Three different men, three different worlds, t...  English   \n",
       "4  Summer, New York City. A college girl falls ha...  English   \n",
       "\n",
       "                    country                    awards  \\\n",
       "0                       USA  3 wins & 13 nominations.   \n",
       "1  Germany, UK, USA, Canada   5 wins & 4 nominations.   \n",
       "2                 Australia  4 wins & 23 nominations.   \n",
       "3                    Canada  5 wins & 12 nominations.   \n",
       "4                       USA    1 win & 3 nominations.   \n",
       "\n",
       "                                              poster metascore imdbrating  \\\n",
       "0  https://m.media-amazon.com/images/M/MV5BMTY3OT...        41        5.6   \n",
       "1  https://m.media-amazon.com/images/M/MV5BZjczMW...        53        7.7   \n",
       "2  https://m.media-amazon.com/images/M/MV5BNTI4Mz...        63        6.7   \n",
       "3  https://m.media-amazon.com/images/M/MV5BMzAyMz...        44        6.5   \n",
       "4  https://m.media-amazon.com/images/M/MV5BMjMzMD...        65        5.7   \n",
       "\n",
       "  imdbvotes     imdbid  \n",
       "0   129,803  tt0381707  \n",
       "1   298,495  tt0425210  \n",
       "2    36,499  tt1703148  \n",
       "3     7,026  tt4034452  \n",
       "4     9,304  tt4129870  "
      ],
      "text/html": "<div>\n<style scoped>\n    .dataframe tbody tr th:only-of-type {\n        vertical-align: middle;\n    }\n\n    .dataframe tbody tr th {\n        vertical-align: top;\n    }\n\n    .dataframe thead th {\n        text-align: right;\n    }\n</style>\n<table border=\"1\" class=\"dataframe\">\n  <thead>\n    <tr style=\"text-align: right;\">\n      <th></th>\n      <th>title</th>\n      <th>year</th>\n      <th>rated</th>\n      <th>released</th>\n      <th>runtime</th>\n      <th>genre</th>\n      <th>director</th>\n      <th>writer</th>\n      <th>actors</th>\n      <th>plot</th>\n      <th>language</th>\n      <th>country</th>\n      <th>awards</th>\n      <th>poster</th>\n      <th>metascore</th>\n      <th>imdbrating</th>\n      <th>imdbvotes</th>\n      <th>imdbid</th>\n    </tr>\n  </thead>\n  <tbody>\n    <tr>\n      <th>0</th>\n      <td>White Chicks</td>\n      <td>2004</td>\n      <td>PG-13</td>\n      <td>23 Jun 2004</td>\n      <td>109 min</td>\n      <td>Comedy, Crime</td>\n      <td>Keenen Ivory Wayans</td>\n      <td>Keenen Ivory Wayans (screenplay), Shawn Wayans...</td>\n      <td>Shawn Wayans, Marlon Wayans, Jaime King, Frank...</td>\n      <td>Two disgraced FBI agents go way undercover in ...</td>\n      <td>English</td>\n      <td>USA</td>\n      <td>3 wins &amp; 13 nominations.</td>\n      <td>https://m.media-amazon.com/images/M/MV5BMTY3OT...</td>\n      <td>41</td>\n      <td>5.6</td>\n      <td>129,803</td>\n      <td>tt0381707</td>\n    </tr>\n    <tr>\n      <th>1</th>\n      <td>Lucky Number Slevin</td>\n      <td>2006</td>\n      <td>R</td>\n      <td>07 Apr 2006</td>\n      <td>110 min</td>\n      <td>Action, Crime, Drama, Thriller</td>\n      <td>Paul McGuigan</td>\n      <td>Jason Smilovic</td>\n      <td>Josh Hartnett, Bruce Willis, Lucy Liu, Morgan ...</td>\n      <td>A case of mistaken identity lands Slevin into ...</td>\n      <td>English</td>\n      <td>Germany, UK, USA, Canada</td>\n      <td>5 wins &amp; 4 nominations.</td>\n      <td>https://m.media-amazon.com/images/M/MV5BZjczMW...</td>\n      <td>53</td>\n      <td>7.7</td>\n      <td>298,495</td>\n      <td>tt0425210</td>\n    </tr>\n    <tr>\n      <th>2</th>\n      <td>The Hunter</td>\n      <td>2011</td>\n      <td>R</td>\n      <td>06 Oct 2011</td>\n      <td>100 min</td>\n      <td>Adventure, Drama, Thriller</td>\n      <td>Daniel Nettheim</td>\n      <td>Alice Addison (screenplay), Wain Fimeri (origi...</td>\n      <td>Willem Dafoe, Frances O'Connor, Sam Neill, Mor...</td>\n      <td>Martin, a mercenary, is sent from Europe by a ...</td>\n      <td>English</td>\n      <td>Australia</td>\n      <td>4 wins &amp; 23 nominations.</td>\n      <td>https://m.media-amazon.com/images/M/MV5BNTI4Mz...</td>\n      <td>63</td>\n      <td>6.7</td>\n      <td>36,499</td>\n      <td>tt1703148</td>\n    </tr>\n    <tr>\n      <th>3</th>\n      <td>Hyena Road</td>\n      <td>2015</td>\n      <td>R</td>\n      <td>09 Oct 2015</td>\n      <td>120 min</td>\n      <td>Action, Drama, War</td>\n      <td>Paul Gross</td>\n      <td>Paul Gross</td>\n      <td>Rossif Sutherland, Allan Hawco, David Richmond...</td>\n      <td>Three different men, three different worlds, t...</td>\n      <td>English</td>\n      <td>Canada</td>\n      <td>5 wins &amp; 12 nominations.</td>\n      <td>https://m.media-amazon.com/images/M/MV5BMzAyMz...</td>\n      <td>44</td>\n      <td>6.5</td>\n      <td>7,026</td>\n      <td>tt4034452</td>\n    </tr>\n    <tr>\n      <th>4</th>\n      <td>White Girl</td>\n      <td>2016</td>\n      <td>Not Rated</td>\n      <td>01 Dec 2016</td>\n      <td>88 min</td>\n      <td>Crime, Drama</td>\n      <td>Elizabeth Wood</td>\n      <td>Elizabeth Wood</td>\n      <td>Morgan Saylor, Brian Marc, Justin Bartha, Chri...</td>\n      <td>Summer, New York City. A college girl falls ha...</td>\n      <td>English</td>\n      <td>USA</td>\n      <td>1 win &amp; 3 nominations.</td>\n      <td>https://m.media-amazon.com/images/M/MV5BMjMzMD...</td>\n      <td>65</td>\n      <td>5.7</td>\n      <td>9,304</td>\n      <td>tt4129870</td>\n    </tr>\n  </tbody>\n</table>\n</div>"
     },
     "metadata": {},
     "execution_count": 12
    }
   ],
   "source": [
    "movies_db.head()"
   ]
  },
  {
   "cell_type": "code",
   "execution_count": null,
   "metadata": {},
   "outputs": [],
   "source": []
  }
 ]
}