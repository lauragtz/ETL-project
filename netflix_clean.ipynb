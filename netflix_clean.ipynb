{
 "metadata": {
  "language_info": {
   "codemirror_mode": {
    "name": "ipython",
    "version": 3
   },
   "file_extension": ".py",
   "mimetype": "text/x-python",
   "name": "python",
   "nbconvert_exporter": "python",
   "pygments_lexer": "ipython3",
   "version": "3.9.1-final"
  },
  "orig_nbformat": 2,
  "kernelspec": {
   "name": "python3",
   "display_name": "Python 3.9.1 64-bit ('Data_Viz_Conda': conda)",
   "metadata": {
    "interpreter": {
     "hash": "2b588d8170a76848a1d3e96a3ab2949f999e19d424fdc8833f81e57efe409ff7"
    }
   }
  }
 },
 "nbformat": 4,
 "nbformat_minor": 2,
 "cells": [
  {
   "cell_type": "code",
   "execution_count": 16,
   "metadata": {},
   "outputs": [],
   "source": [
    "#import dependancies\n",
    "import pandas as pd\n",
    "import numpy as np"
   ]
  },
  {
   "cell_type": "code",
   "execution_count": 18,
   "metadata": {},
   "outputs": [
    {
     "output_type": "execute_result",
     "data": {
      "text/plain": [
       "                   title rating  \\\n",
       "0           White Chicks  PG-13   \n",
       "1    Lucky Number Slevin      R   \n",
       "2         Grey's Anatomy  TV-14   \n",
       "3           Prison Break  TV-14   \n",
       "4  How I Met Your Mother  TV-PG   \n",
       "\n",
       "                                         ratingLevel  ratingDescription  \\\n",
       "0  crude and sexual humor, language and some drug...                 80   \n",
       "1  strong violence, sexual content and adult lang...                100   \n",
       "2  Parents strongly cautioned. May be unsuitable ...                 90   \n",
       "3  Parents strongly cautioned. May be unsuitable ...                 90   \n",
       "4  Parental guidance suggested. May not be suitab...                 70   \n",
       "\n",
       "   release year  user rating score  user rating size Movie or Show  \n",
       "0          2004               82.0                80         Movie  \n",
       "1          2006                NaN                82         Movie  \n",
       "2          2016               98.0                80          Show  \n",
       "3          2008               98.0                80          Show  \n",
       "4          2014               94.0                80          Show  "
      ],
      "text/html": "<div>\n<style scoped>\n    .dataframe tbody tr th:only-of-type {\n        vertical-align: middle;\n    }\n\n    .dataframe tbody tr th {\n        vertical-align: top;\n    }\n\n    .dataframe thead th {\n        text-align: right;\n    }\n</style>\n<table border=\"1\" class=\"dataframe\">\n  <thead>\n    <tr style=\"text-align: right;\">\n      <th></th>\n      <th>title</th>\n      <th>rating</th>\n      <th>ratingLevel</th>\n      <th>ratingDescription</th>\n      <th>release year</th>\n      <th>user rating score</th>\n      <th>user rating size</th>\n      <th>Movie or Show</th>\n    </tr>\n  </thead>\n  <tbody>\n    <tr>\n      <th>0</th>\n      <td>White Chicks</td>\n      <td>PG-13</td>\n      <td>crude and sexual humor, language and some drug...</td>\n      <td>80</td>\n      <td>2004</td>\n      <td>82.0</td>\n      <td>80</td>\n      <td>Movie</td>\n    </tr>\n    <tr>\n      <th>1</th>\n      <td>Lucky Number Slevin</td>\n      <td>R</td>\n      <td>strong violence, sexual content and adult lang...</td>\n      <td>100</td>\n      <td>2006</td>\n      <td>NaN</td>\n      <td>82</td>\n      <td>Movie</td>\n    </tr>\n    <tr>\n      <th>2</th>\n      <td>Grey's Anatomy</td>\n      <td>TV-14</td>\n      <td>Parents strongly cautioned. May be unsuitable ...</td>\n      <td>90</td>\n      <td>2016</td>\n      <td>98.0</td>\n      <td>80</td>\n      <td>Show</td>\n    </tr>\n    <tr>\n      <th>3</th>\n      <td>Prison Break</td>\n      <td>TV-14</td>\n      <td>Parents strongly cautioned. May be unsuitable ...</td>\n      <td>90</td>\n      <td>2008</td>\n      <td>98.0</td>\n      <td>80</td>\n      <td>Show</td>\n    </tr>\n    <tr>\n      <th>4</th>\n      <td>How I Met Your Mother</td>\n      <td>TV-PG</td>\n      <td>Parental guidance suggested. May not be suitab...</td>\n      <td>70</td>\n      <td>2014</td>\n      <td>94.0</td>\n      <td>80</td>\n      <td>Show</td>\n    </tr>\n  </tbody>\n</table>\n</div>"
     },
     "metadata": {},
     "execution_count": 18
    }
   ],
   "source": [
    "#import raw data\n",
    "\n",
    "netflix_file = '/Users/jeremykalmus/Desktop/Google Drive/UC Davis Analytics Boot Camp/Projects/ETL-project/Resources/netflix.csv'\n",
    "netflix_data = pd.read_csv(netflix_file)\n",
    "\n",
    "#Create a new column to use to split shows and movies\n",
    "netflix_data['for_splitting'] = netflix_data['rating']\n",
    "netflix_data['for_splitting'] = netflix_data['for_splitting'].str.split('-', expand=True)\n",
    "netflix_data['Movie or Show'] = np.where(netflix_data['for_splitting'] == 'TV', 'Show', 'Movie')\n",
    "netflix_data.drop(columns='for_splitting', inplace=True)\n",
    "\n",
    "netflix_data.head()"
   ]
  },
  {
   "cell_type": "code",
   "execution_count": 21,
   "metadata": {},
   "outputs": [],
   "source": [
    "#create new dataframes for export for shows and movies\n",
    "netflix_shows = netflix_data.loc[netflix_data['Movie or Show'] == 'Show']\n",
    "netflix_movies = netflix_data.loc[netflix_data['Movie or Show'] == 'Movie']"
   ]
  },
  {
   "cell_type": "code",
   "execution_count": 23,
   "metadata": {},
   "outputs": [],
   "source": [
    "#new CSV files for export\n",
    "netflix_movies.to_csv('Resources/netflix_movies.csv')\n",
    "netflix_shows.to_csv('Resources/netflix_shows.csv')"
   ]
  },
  {
   "cell_type": "code",
   "execution_count": null,
   "metadata": {},
   "outputs": [],
   "source": []
  }
 ]
}